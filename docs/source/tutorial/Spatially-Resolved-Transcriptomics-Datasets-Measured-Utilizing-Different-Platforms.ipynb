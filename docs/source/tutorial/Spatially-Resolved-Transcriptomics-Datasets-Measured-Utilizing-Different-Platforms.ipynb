{
 "cells": [
  {
   "cell_type": "markdown",
   "id": "a4d1b98c",
   "metadata": {},
   "source": [
    "### Spatially Resolved Transcriptomics Datasets Measured Utilizing Different Platforms.                    \n",
    "\n",
    "In this tutorial, we demonstrate how to apply `BatchEval` to assess datasets that were measured by different platforms. As an example, we used three mouse olfactory bulb datasets. One slice was profiled by 10x Genomics Visium, while the other two slices were obtained from Stereo-seq."
   ]
  },
  {
   "cell_type": "markdown",
   "id": "b5ec72f3",
   "metadata": {},
   "source": [
    "- ### Import packages"
   ]
  },
  {
   "cell_type": "code",
   "execution_count": null,
   "id": "b2b372f4",
   "metadata": {},
   "outputs": [],
   "source": [
    "import scanpy as sc\n",
    "from BatchEval import batch_eval"
   ]
  },
  {
   "cell_type": "markdown",
   "id": "cb3ed776",
   "metadata": {},
   "source": [
    "- ### Load datasets"
   ]
  },
  {
   "cell_type": "code",
   "execution_count": null,
   "id": "9fbcbd7a",
   "metadata": {},
   "outputs": [],
   "source": [
    "datas = [sc.read_h5ad(pt) for pt in [\n",
    "    \"./demo/stereo_olfactory_bulb_ann.h5ad\",\n",
    "    \"./demo/visium_olfactory_bulb_ann.h5ad\",\n",
    "]]"
   ]
  },
  {
   "cell_type": "markdown",
   "id": "84b2d02e",
   "metadata": {},
   "source": [
    "- ### Running `BatchEval` Pipeline              \n",
    "    \n",
    "    The final report `.html` file will be saved in `report_path`"
   ]
  },
  {
   "cell_type": "code",
   "execution_count": null,
   "id": "e935059f",
   "metadata": {},
   "outputs": [],
   "source": [
    "batch_eval(*datas, report_path=\"./output\")"
   ]
  }
 ],
 "metadata": {
  "kernelspec": {
   "display_name": "Python 3 (ipykernel)",
   "language": "python",
   "name": "python3"
  },
  "language_info": {
   "codemirror_mode": {
    "name": "ipython",
    "version": 3
   },
   "file_extension": ".py",
   "mimetype": "text/x-python",
   "name": "python",
   "nbconvert_exporter": "python",
   "pygments_lexer": "ipython3",
   "version": "3.8.12"
  }
 },
 "nbformat": 4,
 "nbformat_minor": 5
}
